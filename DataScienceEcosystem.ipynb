{
 "cells": [
  {
   "attachments": {},
   "cell_type": "markdown",
   "id": "66e2634c-da02-4ae8-a164-f0b781214e36",
   "metadata": {},
   "source": [
    "# Data Science Tools and Ecosystem"
   ]
  },
  {
   "cell_type": "markdown",
   "id": "3b3e2ce4-9d93-4ee6-8971-2362214bae6c",
   "metadata": {},
   "source": [
    "## In this notebook, Data Science Tools and Ecosystem are summarized."
   ]
  },
  {
   "cell_type": "markdown",
   "id": "dc0d4b0a-24c0-415d-9e64-52b70b198a4b",
   "metadata": {},
   "source": [
    "**Objetives**\n",
    "- Take an overview of data science tools\n",
    "- Learn some languages used in data science\n",
    "- Learn about some libraries used in data science\n",
    "- Learn about Jupyter notebooks\n",
    "- Learn about Git Hub"
   ]
  },
  {
   "cell_type": "markdown",
   "id": "bfa3f6fd-24bd-4eab-814e-ce9a03eb7cfd",
   "metadata": {},
   "source": [
    "## Some of the popular languages that Data Scientists use are:\n",
    "1. Phyton\n",
    "2. R\n",
    "3. Java\n",
    "4. Julia\n",
    "5. Scala"
   ]
  },
  {
   "cell_type": "markdown",
   "id": "b3223b4e-319d-4700-8ff4-2aafa2a276e8",
   "metadata": {},
   "source": [
    "### Some of the commonly used libraries used by Data Scientists include:\n",
    "1. Pandas\n",
    "2. NumPy\n",
    "3. Matplotlib\n",
    "4. Scikit-learn\n",
    "5. Tensorflow\n",
    "6. Keras"
   ]
  },
  {
   "cell_type": "markdown",
   "id": "10ddaf96-4e3e-46cc-8153-d9e9adb6b976",
   "metadata": {},
   "source": [
    "### Some of the commonly used development environment opensource tools used in data science are:\n",
    "| Data science Tools|\n",
    "| ------ |\n",
    "| Jupyter notebook|\n",
    "|Vs Code|\n",
    "|Google Collab|\n",
    "|Anaconda|\n",
    "\n"
   ]
  },
  {
   "cell_type": "markdown",
   "id": "9a7029f5-3c07-4ed3-9f98-5264d148a400",
   "metadata": {},
   "source": [
    "### Below are a few examples of evaluating arithmetic expressions in Python"
   ]
  },
  {
   "cell_type": "code",
   "execution_count": 7,
   "id": "61aedbdd-f234-4005-9d22-7a2f91778a64",
   "metadata": {},
   "outputs": [
    {
     "data": {
      "text/plain": [
       "17"
      ]
     },
     "execution_count": 7,
     "metadata": {},
     "output_type": "execute_result"
    }
   ],
   "source": [
    "# This is a simple arithmetic expression to multiply then add integers\n",
    "(3*4)+5"
   ]
  },
  {
   "cell_type": "code",
   "execution_count": 19,
   "id": "bc1738a7-5b46-421f-82b8-712bddc70f50",
   "metadata": {},
   "outputs": [
    {
     "name": "stdout",
     "output_type": "stream",
     "text": [
      "200 minutes is equal to 3.3333333333333335 hours\n"
     ]
    }
   ],
   "source": [
    "# This will convert 200 minutes to hours by diving by 60\n",
    "Minutes=200\n",
    "Hours=Minutes/60\n",
    "print(f\"{Minutes} minutes is equal to {Hours} hours\")"
   ]
  },
  {
   "cell_type": "markdown",
   "id": "9ab99e0b-3aba-4c55-8587-6b6a0212b8ad",
   "metadata": {},
   "source": [
    "## Author\n",
    "Mario J. Acero Caballero"
   ]
  },
  {
   "cell_type": "code",
   "execution_count": null,
   "id": "107d377a-f25c-4f78-bb93-70ea85f0c9a5",
   "metadata": {},
   "outputs": [],
   "source": []
  }
 ],
 "metadata": {
  "kernelspec": {
   "display_name": "Python 3 (ipykernel)",
   "language": "python",
   "name": "python3"
  },
  "language_info": {
   "codemirror_mode": {
    "name": "ipython",
    "version": 3
   },
   "file_extension": ".py",
   "mimetype": "text/x-python",
   "name": "python",
   "nbconvert_exporter": "python",
   "pygments_lexer": "ipython3",
   "version": "3.12.7"
  }
 },
 "nbformat": 4,
 "nbformat_minor": 5
}
